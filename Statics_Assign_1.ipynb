{
 "cells": [
  {
   "cell_type": "code",
   "execution_count": 1,
   "id": "b4ef1a6a-819f-4565-a2fc-14e831877e9a",
   "metadata": {},
   "outputs": [
    {
     "data": {
      "text/plain": [
       "' Statics is the science of collecting,organising and analysing data.\\n It provides methods and tools to make sense of numerical information and draw meaningful conclusions from it.\\n Statistics can be divided into two main branches: descriptive statistics and inferential statistics.\\nDescriptive statistics involves organizing and summarizing data using measures such as averages (mean, median, mode), measures of spread (standard deviation, range), and graphical representations (bar graphs, histograms). Descriptive statistics provide a concise summary of the data and help us understand its key characteristics.\\nInferential statistics, on the other hand, involves making inferences or predictions about a larger population based on a smaller sample of data. It uses probability theory and sampling techniques to draw conclusions and make generalizations about the population.\\n'"
      ]
     },
     "execution_count": 1,
     "metadata": {},
     "output_type": "execute_result"
    }
   ],
   "source": [
    "#1\n",
    "''' Statics is the science of collecting,organising and analysing data.\n",
    " It provides methods and tools to make sense of numerical information and draw meaningful conclusions from it.\n",
    " Statistics can be divided into two main branches: descriptive statistics and inferential statistics.\n",
    "Descriptive statistics involves organizing and summarizing data using measures such as averages (mean, median, mode), measures of spread (standard deviation, range), and graphical representations (bar graphs, histograms). Descriptive statistics provide a concise summary of the data and help us understand its key characteristics.\n",
    "Inferential statistics, on the other hand, involves making inferences or predictions about a larger population based on a smaller sample of data. It uses probability theory and sampling techniques to draw conclusions and make generalizations about the population.\n",
    "'''"
   ]
  },
  {
   "cell_type": "code",
   "execution_count": 2,
   "id": "95f3af07-17c9-4fb5-9bf7-0929f902e6fb",
   "metadata": {},
   "outputs": [
    {
     "data": {
      "text/plain": [
       "'Statistics can be divided into two main branches: descriptive statistics and inferential statistics.\\nDescriptive statistics involves organizing and summarizing data using measures such as averages (mean, median, mode), measures of spread (standard deviation, range), and graphical representations (bar graphs, histograms). Descriptive statistics provide a concise summary of the data and help us understand its key characteristics.\\nInferential statistics, on the other hand, involves making inferences or predictions about a larger population based on a smaller sample of data. It uses probability theory and sampling techniques to draw conclusions and make generalizations about the population'"
      ]
     },
     "execution_count": 2,
     "metadata": {},
     "output_type": "execute_result"
    }
   ],
   "source": [
    "#2\n",
    "'''Statistics can be divided into two main branches: descriptive statistics and inferential statistics.\\nDescriptive statistics involves organizing and summarizing data using measures such as averages (mean, median, mode), measures of spread (standard deviation, range), and graphical representations (bar graphs, histograms). Descriptive statistics provide a concise summary of the data and help us understand its key characteristics.\\nInferential statistics, on the other hand, involves making inferences or predictions about a larger population based on a smaller sample of data. It uses probability theory and sampling techniques to draw conclusions and make generalizations about the population'''"
   ]
  },
  {
   "cell_type": "code",
   "execution_count": 3,
   "id": "64fd58bc-0b58-4d70-8027-fe60e533cf23",
   "metadata": {},
   "outputs": [
    {
     "data": {
      "text/plain": [
       "\"\\n1>Nominal data\\nEye color: Blue, brown, green.\\nMarital status: Single, married, divorced.\\n\\n2>Ordinal data\\nEducational levels: High school, bachelor's degree, master's degree.\\nMovie ratings: Excellent, good, average, poor.\\n\\n3>Interval Scale Data\\nTemperature in Celsius: 0°C, 10°C, 20°C.\\nCalendar years: 2000, 2010, 2020.\\n\\n4>Ratio Scale data\\nHeight in centimeters: 150 cm, 170 cm, 180 cm.\\nWeight in kilograms: 50 kg, 70 kg, 80 kg.\\n\""
      ]
     },
     "execution_count": 3,
     "metadata": {},
     "output_type": "execute_result"
    }
   ],
   "source": []
  },
  {
   "cell_type": "code",
   "execution_count": null,
   "id": "6ca6898a-4cfa-4f45-92df-cac379e3b514",
   "metadata": {},
   "outputs": [],
   "source": [
    "#3\n",
    "'''\n",
    "1>Nominal data\n",
    "Eye color: Blue, brown, green.\n",
    "Marital status: Single, married, divorced.\n",
    "\n",
    "2>Ordinal data\n",
    "Educational levels: High school, bachelor's degree, master's degree.\n",
    "Movie ratings: Excellent, good, average, poor.\n",
    "\n",
    "3>Interval Scale Data\n",
    "Temperature in Celsius: 0°C, 10°C, 20°C.\n",
    "Calendar years: 2000, 2010, 2020.\n",
    "\n",
    "4>Ratio Scale data\n",
    "Height in centimeters: 150 cm, 170 cm, 180 cm.\n",
    "Weight in kilograms: 50 kg, 70 kg, 80 kg.\n",
    "'''"
   ]
  },
  {
   "cell_type": "code",
   "execution_count": 4,
   "id": "6e6692a4-975c-416d-9e54-437bdda4158d",
   "metadata": {},
   "outputs": [],
   "source": [
    "#4\n",
    "# 1>Ordinal\n",
    "# 2> Nominal\n",
    "# 3>Continous\n",
    "# 4>Discreate"
   ]
  },
  {
   "cell_type": "code",
   "execution_count": null,
   "id": "be6da1bc-27ed-4340-90ce-f7bcc54a5470",
   "metadata": {},
   "outputs": [],
   "source": [
    "#5\n",
    "# Nominal Level: At the nominal level, data are categorized into distinct groups or categories without any inherent order or numerical value. Variables at this level are qualitative and only allow for classification or labeling. Examples include:\n",
    "\n",
    "# Gender: Male, Female.\n",
    "# Ethnicity: Caucasian, African American, Asian, Hispanic.\n",
    "# Ordinal Level: The ordinal level of measurement involves variables that can be ordered or ranked, but the differences between categories may not be precisely quantifiable or equal. Examples include:\n",
    "\n",
    "# Educational attainment: High school diploma, Bachelor's degree, Master's degree.\n",
    "# Socioeconomic status: Low, medium, high.\n",
    "# Interval Level: Variables at the interval level have meaningful numerical values where the intervals between values are equal. However, there is no true zero point, and ratios between values are not meaningful. Examples include:\n",
    "\n",
    "# Temperature in Celsius or Fahrenheit: 20°C, 25°C, 30°C.\n",
    "# Years on the calendar: 2000, 2010, 2020.\n",
    "# Ratio Level: The ratio level of measurement possesses all the properties of the interval level, but also includes a true zero point, enabling meaningful ratios between values. Examples include:\n",
    "\n",
    "# Height in centimeters: 150 cm, 170 cm, 180 cm.\n",
    "# Income in dollars: $50,000, $70,000, $80,000."
   ]
  },
  {
   "cell_type": "code",
   "execution_count": 5,
   "id": "289ba34d-27ae-4dd8-95f2-6f99573e3e59",
   "metadata": {},
   "outputs": [
    {
     "data": {
      "text/plain": [
       "\"Understanding the level of measurement is crucial when analyzing data because it determines the appropriate statistical techniques and operations that can be applied to the data. Different levels of measurement have different properties and limitations, and using the wrong analysis method can lead to incorrect conclusions or misleading interpretations. Here's an example to illustrate the importance of understanding the level of measurement:\\n\\nLet's consider a study that examines the relationship between customer satisfaction and loyalty for a company. The researchers collect data from a sample of customers, including their satisfaction levels and loyalty ratings. The satisfaction levels are measured on a Likert scale (1-5), while the loyalty ratings are measured using three categories: low, medium, and high.\\n\\nIf the researchers mistakenly treat the satisfaction levels as interval data, they might attempt to calculate the mean satisfaction score and use parametric statistical tests, assuming equal intervals between the Likert scale values. However, the Likert scale is actually an ordinal level of measurement, and the differences between the scale points may not be precisely quantifiable or equal. Therefore, applying parametric techniques that assume equal intervals would be inappropriate.\\n\""
      ]
     },
     "execution_count": 5,
     "metadata": {},
     "output_type": "execute_result"
    }
   ],
   "source": [
    "#6\n",
    "'''Understanding the level of measurement is crucial when analyzing data because it determines the appropriate statistical techniques and operations that can be applied to the data. Different levels of measurement have different properties and limitations, and using the wrong analysis method can lead to incorrect conclusions or misleading interpretations. Here's an example to illustrate the importance of understanding the level of measurement:\n",
    "\n",
    "Let's consider a study that examines the relationship between customer satisfaction and loyalty for a company. The researchers collect data from a sample of customers, including their satisfaction levels and loyalty ratings. The satisfaction levels are measured on a Likert scale (1-5), while the loyalty ratings are measured using three categories: low, medium, and high.\n",
    "\n",
    "If the researchers mistakenly treat the satisfaction levels as interval data, they might attempt to calculate the mean satisfaction score and use parametric statistical tests, assuming equal intervals between the Likert scale values. However, the Likert scale is actually an ordinal level of measurement, and the differences between the scale points may not be precisely quantifiable or equal. Therefore, applying parametric techniques that assume equal intervals would be inappropriate.\n",
    "'''"
   ]
  },
  {
   "cell_type": "code",
   "execution_count": 7,
   "id": "0d0126fd-b004-4c2d-a96e-87bdfa913cc8",
   "metadata": {},
   "outputs": [
    {
     "data": {
      "text/plain": [
       "'Nominal data: Consists of categories or labels without any inherent order or ranking.\\n\\n Ordinal data: Consists of categories with a specific order or ranking associated with them.\\n '"
      ]
     },
     "execution_count": 7,
     "metadata": {},
     "output_type": "execute_result"
    }
   ],
   "source": [
    "# #7\n",
    "'''Nominal data: Consists of categories or labels without any inherent order or ranking.\n",
    "\n",
    " Ordinal data: Consists of categories with a specific order or ranking associated with them.\n",
    " '''"
   ]
  },
  {
   "cell_type": "code",
   "execution_count": 8,
   "id": "2d41027a-80b0-40e4-be4e-9ebd7ca9f631",
   "metadata": {},
   "outputs": [
    {
     "data": {
      "text/plain": [
       "'By using a box plot, you can quickly observe the spread or range of the data and identify any outliers or extreme values. It is particularly useful when comparing multiple datasets or groups to gain insights into their ranges and distributions.\\n'"
      ]
     },
     "execution_count": 8,
     "metadata": {},
     "output_type": "execute_result"
    }
   ],
   "source": [
    "#8\n",
    "'''By using a box plot, you can quickly observe the spread or range of the data and identify any outliers or extreme values. It is particularly useful when comparing multiple datasets or groups to gain insights into their ranges and distributions.\n",
    "'''"
   ]
  },
  {
   "cell_type": "code",
   "execution_count": 9,
   "id": "b1dd0ee9-a076-4278-af5c-d8801d6e7715",
   "metadata": {},
   "outputs": [
    {
     "data": {
      "text/plain": [
       "\"\\nDescriptive Statistics:\\nDescriptive statistics involve summarizing and describing the main characteristics or features of a dataset. It focuses on organizing, presenting, and analyzing data to gain insights into its central tendency, variability, and distribution. Descriptive statistics are used to describe and understand the data itself, without making inferences or generalizations to a larger population.\\nExample: Let's say a researcher wants to study the ages of a group of students. They collect data on the ages of 50 students and calculate various descriptive statistics, such as the mean (average) age, the median (middle) age, and the standard deviation (measure of variability) of the ages. These descriptive statistics provide a summary of the age distribution within the sample and help understand the central tendency and variability of the student ages.\\n\\nInferential Statistics:\\nInferential statistics involves making inferences, predictions, or generalizations about a larger population based on a sample of data. It utilizes probability theory and statistical techniques to draw conclusions or make predictions beyond the observed data. Inferential statistics aim to make valid and reliable statements about a population by using sample data.\\nExample: Suppose a company wants to determine if a new marketing strategy is effective in increasing sales. They select a random sample of customers and expose half of them to the new strategy while keeping the other half as a control group. After a specified period, they compare the sales data between the two groups using inferential statistics. Statistical techniques like hypothesis testing and confidence intervals are applied to determine if the observed differences in sales are statistically significant and can be attributed to the new marketing strategy. The findings can then be used to make inferences about the effectiveness of the strategy for the larger customer population.\\n\""
      ]
     },
     "execution_count": 9,
     "metadata": {},
     "output_type": "execute_result"
    }
   ],
   "source": [
    "#9\n",
    "'''\n",
    "Descriptive Statistics:\n",
    "Descriptive statistics involve summarizing and describing the main characteristics or features of a dataset. It focuses on organizing, presenting, and analyzing data to gain insights into its central tendency, variability, and distribution. Descriptive statistics are used to describe and understand the data itself, without making inferences or generalizations to a larger population.\n",
    "Example: Let's say a researcher wants to study the ages of a group of students. They collect data on the ages of 50 students and calculate various descriptive statistics, such as the mean (average) age, the median (middle) age, and the standard deviation (measure of variability) of the ages. These descriptive statistics provide a summary of the age distribution within the sample and help understand the central tendency and variability of the student ages.\n",
    "\n",
    "Inferential Statistics:\n",
    "Inferential statistics involves making inferences, predictions, or generalizations about a larger population based on a sample of data. It utilizes probability theory and statistical techniques to draw conclusions or make predictions beyond the observed data. Inferential statistics aim to make valid and reliable statements about a population by using sample data.\n",
    "Example: Suppose a company wants to determine if a new marketing strategy is effective in increasing sales. They select a random sample of customers and expose half of them to the new strategy while keeping the other half as a control group. After a specified period, they compare the sales data between the two groups using inferential statistics. Statistical techniques like hypothesis testing and confidence intervals are applied to determine if the observed differences in sales are statistically significant and can be attributed to the new marketing strategy. The findings can then be used to make inferences about the effectiveness of the strategy for the larger customer population.\n",
    "'''"
   ]
  },
  {
   "cell_type": "code",
   "execution_count": 10,
   "id": "35ffd080-061e-4c34-942a-8e51a00f624d",
   "metadata": {},
   "outputs": [
    {
     "data": {
      "text/plain": [
       "'\\n\\nCommon measures of central tendency and variability used in statistics include:\\n\\nMeasures of Central Tendency:\\n\\nMean: The mean is the average value calculated by summing all the values in a dataset and dividing by the number of observations. It provides a measure of the \"typical\" value in the dataset. The mean can be influenced by extreme values.\\n\\nMedian: The median represents the middle value in a dataset when it is arranged in ascending or descending order. It is less affected by extreme values compared to the mean and provides a measure of the central value.\\n\\nMode: The mode is the value or values that occur most frequently in a dataset. It represents the most common value(s) and can be used to describe the peak(s) in the distribution.\\n\\nMeasures of Variability:\\n\\nRange: The range is the difference between the maximum and minimum values in a dataset. It provides a simple measure of the spread or variability in the data.\\n\\nVariance: Variance measures the average squared deviation of each value from the mean. It quantifies the overall dispersion of the dataset. A higher variance indicates greater variability.\\n\\nStandard Deviation: The standard deviation is the square root of the variance. It provides a measure of the average distance between each value and the mean. A smaller standard deviation indicates less variability, while a larger standard deviation indicates greater variability.\\n'"
      ]
     },
     "execution_count": 10,
     "metadata": {},
     "output_type": "execute_result"
    }
   ],
   "source": [
    "#10\n",
    "'''\n",
    "\n",
    "Common measures of central tendency and variability used in statistics include:\n",
    "\n",
    "Measures of Central Tendency:\n",
    "\n",
    "Mean: The mean is the average value calculated by summing all the values in a dataset and dividing by the number of observations. It provides a measure of the \"typical\" value in the dataset. The mean can be influenced by extreme values.\n",
    "\n",
    "Median: The median represents the middle value in a dataset when it is arranged in ascending or descending order. It is less affected by extreme values compared to the mean and provides a measure of the central value.\n",
    "\n",
    "Mode: The mode is the value or values that occur most frequently in a dataset. It represents the most common value(s) and can be used to describe the peak(s) in the distribution.\n",
    "\n",
    "Measures of Variability:\n",
    "\n",
    "Range: The range is the difference between the maximum and minimum values in a dataset. It provides a simple measure of the spread or variability in the data.\n",
    "\n",
    "Variance: Variance measures the average squared deviation of each value from the mean. It quantifies the overall dispersion of the dataset. A higher variance indicates greater variability.\n",
    "\n",
    "Standard Deviation: The standard deviation is the square root of the variance. It provides a measure of the average distance between each value and the mean. A smaller standard deviation indicates less variability, while a larger standard deviation indicates greater variability.\n",
    "'''"
   ]
  },
  {
   "cell_type": "code",
   "execution_count": null,
   "id": "f7cb785e-cae2-4d63-994a-311061ca19b7",
   "metadata": {},
   "outputs": [],
   "source": []
  }
 ],
 "metadata": {
  "kernelspec": {
   "display_name": "Python 3 (ipykernel)",
   "language": "python",
   "name": "python3"
  },
  "language_info": {
   "codemirror_mode": {
    "name": "ipython",
    "version": 3
   },
   "file_extension": ".py",
   "mimetype": "text/x-python",
   "name": "python",
   "nbconvert_exporter": "python",
   "pygments_lexer": "ipython3",
   "version": "3.10.8"
  }
 },
 "nbformat": 4,
 "nbformat_minor": 5
}
